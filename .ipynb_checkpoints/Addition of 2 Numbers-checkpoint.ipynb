{
 "cells": [
  {
   "attachments": {},
   "cell_type": "markdown",
   "metadata": {},
   "source": [
    "# Addition of 2 Numbers\n",
    "## Background\n",
    "This is a project to build dense networks for perform addtion of 2 numbers between 0-100, by purposely removing certain number(s) from the training data set. For example, 50, or any other number(s).\n",
    "\n",
    "Certain other notes and considerations:\n",
    "* This is a classfication problem, not regression.\n",
    "* Dataset is not given, needs DIY.\n",
    "* It's obvious that the output needs one-hot encoding, what about input?\n",
    "* Use model.save & load_model to deal with save and restore"
   ]
  },
  {
   "attachments": {},
   "cell_type": "markdown",
   "metadata": {},
   "source": [
    "## Preparing the Datasets\n",
    "Using random from numpy module."
   ]
  },
  {
   "cell_type": "code",
   "execution_count": 60,
   "metadata": {},
   "outputs": [
    {
     "name": "stdout",
     "output_type": "stream",
     "text": [
      "(20000,)\n",
      "[40 27 33 ..., 46 19 73]\n"
     ]
    },
    {
     "data": {
      "text/plain": [
       "<matplotlib.text.Text at 0x11cea6e48>"
      ]
     },
     "execution_count": 60,
     "metadata": {},
     "output_type": "execute_result"
    },
    {
     "data": {
      "image/png": "[encoded data removed]",
      "text/plain": [
       "<matplotlib.figure.Figure at 0x11ce8aeb8>"
      ]
     },
     "metadata": {},
     "output_type": "display_data"
    }
   ],
   "source": [
    "import numpy as np\n",
    "%matplotlib inline\n",
    "import matplotlib.pyplot as plt\n",
    "\n",
    "# Generate 20000 groups of numbers, value from 0 to 101(exclusive)\n",
    "input = np.random.randint(0, 101, size=20000)\n",
    "# Verify the dimension of the dataset\n",
    "print(input.shape)\n",
    "print(input)\n",
    "\n",
    "# Plot the numbers by visually inspecting it's evenly distributed\n",
    "plt.hist(input)\n",
    "plt.title(\"input\")"
   ]
  },
  {
   "cell_type": "code",
   "execution_count": 62,
   "metadata": {},
   "outputs": [
    {
     "name": "stdout",
     "output_type": "stream",
     "text": [
      "(19820,)\n",
      "[40 27 33 ..., 74 46 19]\n",
      "After reshape\n",
      "(9910, 2)\n",
      "[[40 27]\n",
      " [33 89]\n",
      " [ 8 98]\n",
      " ..., \n",
      " [ 9 71]\n",
      " [41 74]\n",
      " [46 19]]\n"
     ]
    },
    {
     "data": {
      "text/plain": [
       "(array([  185.,   598.,   950.,  1413.,  1847.,  1777.,  1314.,   960.,\n",
       "          628.,   238.]),\n",
       " array([   0. ,   19.9,   39.8,   59.7,   79.6,   99.5,  119.4,  139.3,\n",
       "         159.2,  179.1,  199. ]),\n",
       " <a list of 10 Patch objects>)"
      ]
     },
     "execution_count": 62,
     "metadata": {},
     "output_type": "execute_result"
    },
    {
     "data": {
      "image/png": "[encoded data removed]",
      "text/plain": [
       "<matplotlib.figure.Figure at 0x11cea62b0>"
      ]
     },
     "metadata": {},
     "output_type": "display_data"
    }
   ],
   "source": [
    "# Remove the numbers that we want the network to perform the prediction\n",
    "remove_num = [50]\n",
    "for i in remove_num:\n",
    "    input = input[input != i]\n",
    "    # Another way could be\n",
    "    #iIndex = np.argwhere(input == i)\n",
    "    #input = np.delete(input, iIndex)\n",
    "\n",
    "# Remove the last number if the size of input is odd number\n",
    "input_train = input if input.size%2==0 else input[:input.size-1]\n",
    "print(input_train.shape)\n",
    "print(input_train)\n",
    "\n",
    "# Reshape to groups of 2 integers\n",
    "input_train = input_train.reshape(int(input_train.size/2), 2)\n",
    "print(\"After reshape\")\n",
    "print(input_train.shape)\n",
    "print(input_train)\n",
    "\n",
    "# Calculate the output and plot it, the result should be normally distributed\n",
    "output_train = np.sum(input_train, axis=1)\n",
    "plt.hist(output_train)"
   ]
  },
  {
   "cell_type": "code",
   "execution_count": null,
   "metadata": {
    "collapsed": true
   },
   "outputs": [],
   "source": []
  }
 ],
 "metadata": {
  "kernelspec": {
   "display_name": "Python 3",
   "language": "python",
   "name": "python3"
  },
  "language_info": {
   "codemirror_mode": {
    "name": "ipython",
    "version": 3
   },
   "file_extension": ".py",
   "mimetype": "text/x-python",
   "name": "python",
   "nbconvert_exporter": "python",
   "pygments_lexer": "ipython3",
   "version": "3.5.4"
  }
 },
 "nbformat": 4,
 "nbformat_minor": 2
}
