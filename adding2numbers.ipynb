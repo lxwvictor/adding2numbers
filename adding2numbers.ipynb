{
 "cells": [
  {
   "cell_type": "markdown",
   "metadata": {},
   "source": [
    "# Addition of 2 Numbers\n",
    "## Background\n",
    "This is a project to build dense networks for perform addtion of 2 numbers between 0-100, by purposely removing certain number(s) from the training data set. For example, 50, or any other number(s).\n",
    "\n",
    "Certain other notes and considerations:\n",
    "* This is a classfication problem, not regression.\n",
    "* Dataset is not given, needs DIY.\n",
    "* It's obvious that the output needs one-hot encoding, what about input?\n",
    "* Use model.save & load_model to deal with save and restore"
   ]
  },
  {
   "cell_type": "markdown",
   "metadata": {},
   "source": [
    "## Preparing the Datasets\n",
    "### Using random from numpy module to create training datasets."
   ]
  },
  {
   "cell_type": "code",
   "execution_count": 47,
   "metadata": {},
   "outputs": [
    {
     "name": "stdout",
     "output_type": "stream",
     "text": [
      "(20000,)\n",
      "[40 15 72 ..., 24 62 92]\n"
     ]
    },
    {
     "data": {
      "text/plain": [
       "<matplotlib.text.Text at 0x128e0c908>"
      ]
     },
     "execution_count": 47,
     "metadata": {},
     "output_type": "execute_result"
    },
    {
     "data": {
      "image/png": "[encoded data removed]",
      "text/plain": [
       "<matplotlib.figure.Figure at 0x1143d8080>"
      ]
     },
     "metadata": {},
     "output_type": "display_data"
    }
   ],
   "source": [
    "import numpy as np\n",
    "%matplotlib inline\n",
    "import matplotlib.pyplot as plt\n",
    "\n",
    "# Generate 20000 groups of numbers, value from 0 to 101(exclusive)\n",
    "np.random.seed(2)\n",
    "input = np.random.randint(0, 101, size=20000)\n",
    "\n",
    "# Verify the dimension of the dataset\n",
    "print(input.shape)\n",
    "print(input)\n",
    "\n",
    "# Plot the numbers by visually inspecting it's evenly distributed\n",
    "plt.hist(input)\n",
    "plt.title(\"input\")"
   ]
  },
  {
   "cell_type": "code",
   "execution_count": 48,
   "metadata": {},
   "outputs": [
    {
     "name": "stdout",
     "output_type": "stream",
     "text": [
      "(19766,)\n",
      "[40 15 72 ..., 24 62 92]\n",
      "[40 15]\n"
     ]
    },
    {
     "data": {
      "text/plain": [
       "(array([  209.,   560.,   922.,  1381.,  1749.,  1814.,  1419.,  1012.,\n",
       "          577.,   240.]),\n",
       " array([   0. ,   19.9,   39.8,   59.7,   79.6,   99.5,  119.4,  139.3,\n",
       "         159.2,  179.1,  199. ]),\n",
       " <a list of 10 Patch objects>)"
      ]
     },
     "execution_count": 48,
     "metadata": {},
     "output_type": "execute_result"
    },
    {
     "data": {
      "image/png": "[encoded data removed]",
      "text/plain": [
       "<matplotlib.figure.Figure at 0x1271a2908>"
      ]
     },
     "metadata": {},
     "output_type": "display_data"
    }
   ],
   "source": [
    "# Remove the numbers that we want the network to perform the prediction\n",
    "remove_num = [50]\n",
    "for i in remove_num:\n",
    "    input = input[input != i]\n",
    "    # Another way could be\n",
    "    #iIndex = np.argwhere(input == i)\n",
    "    #input = np.delete(input, iIndex)\n",
    "\n",
    "# Remove the last number if the size of input is odd number\n",
    "input_train = input if input.size%2==0 else input[:input.size-1]\n",
    "print(input_train.shape)\n",
    "print(input_train)\n",
    "\n",
    "# Reshape to groups of 2 integers\n",
    "input_train = input_train.reshape(int(input_train.size/2), 2)\n",
    "print(input_train[0])\n",
    "\n",
    "# Calculate the output and plot it, the result should be normally distributed\n",
    "output_train = np.sum(input_train, axis=1)\n",
    "plt.hist(output_train)"
   ]
  },
  {
   "cell_type": "code",
   "execution_count": 69,
   "metadata": {},
   "outputs": [
    {
     "name": "stdout",
     "output_type": "stream",
     "text": [
      "[ 55  94 125 ..., 190  52 154]\n",
      "55 \n",
      " [40 15] \n",
      " [ 0.40000001  0.15000001] \n",
      " [ 0.  0.  0.  0.  0.  0.  0.  0.  0.  0.  0.  0.  0.  0.  0.  0.  0.  0.\n",
      "  0.  0.  0.  0.  0.  0.  0.  0.  0.  0.  0.  0.  0.  0.  0.  0.  0.  0.\n",
      "  0.  0.  0.  0.  0.  0.  0.  0.  0.  0.  0.  0.  0.  0.  0.  0.  0.  0.\n",
      "  0.  1.  0.  0.  0.  0.  0.  0.  0.  0.  0.  0.  0.  0.  0.  0.  0.  0.\n",
      "  0.  0.  0.  0.  0.  0.  0.  0.  0.  0.  0.  0.  0.  0.  0.  0.  0.  0.\n",
      "  0.  0.  0.  0.  0.  0.  0.  0.  0.  0.  0.  0.  0.  0.  0.  0.  0.  0.\n",
      "  0.  0.  0.  0.  0.  0.  0.  0.  0.  0.  0.  0.  0.  0.  0.  0.  0.  0.\n",
      "  0.  0.  0.  0.  0.  0.  0.  0.  0.  0.  0.  0.  0.  0.  0.  0.  0.  0.\n",
      "  0.  0.  0.  0.  0.  0.  0.  0.  0.  0.  0.  0.  0.  0.  0.  0.  0.  0.\n",
      "  0.  0.  0.  0.  0.  0.  0.  0.  0.  0.  0.  0.  0.  0.  0.  0.  0.  0.\n",
      "  0.  0.  0.  0.  0.  0.  0.  0.  0.  0.  0.  0.  0.  0.  0.  0.  0.  0.\n",
      "  0.  0.  0.] \n",
      " (9883, 201)\n"
     ]
    }
   ],
   "source": [
    "# One-hot encode the training output, there are 201 possible values of output\n",
    "import keras\n",
    "from keras.models import Model, Sequential\n",
    "from keras.layers import *\n",
    "n_classes = 201\n",
    "print(output_train)\n",
    "\n",
    "# Normalize the training input\n",
    "x_train = input_train.astype('float32')\n",
    "x_train = x_train / 100\n",
    "#x_train = keras.utils.to_categorical(input_train, 101)\n",
    "#x_train = x_train.reshape(9883, 202)\n",
    "#print(input_train.shape, x_train.shape)\n",
    "y_train = keras.utils.to_categorical(output_train, n_classes)\n",
    "print(output_train[0], '\\n', input_train[0], '\\n', x_train[0], '\\n', y_train[0], '\\n', y_train.shape)"
   ]
  },
  {
   "cell_type": "markdown",
   "metadata": {},
   "source": [
    "### Create testing datasets\n",
    "The way to create testing datasets will be slightly different from the training dataset. A two dimensional numpy array will be created first, then we only keep those groups contain the number we want to test against to."
   ]
  },
  {
   "cell_type": "code",
   "execution_count": 70,
   "metadata": {},
   "outputs": [
    {
     "name": "stdout",
     "output_type": "stream",
     "text": [
      "(100000, 2)\n",
      "(1981, 2)\n",
      "(1980, 2)\n"
     ]
    },
    {
     "data": {
      "text/plain": [
       "(array([ 216.,  196.,  202.,  205.,  188.,  180.,  191.,  180.,  198.,  224.]),\n",
       " array([  50.,   60.,   70.,   80.,   90.,  100.,  110.,  120.,  130.,\n",
       "         140.,  150.]),\n",
       " <a list of 10 Patch objects>)"
      ]
     },
     "execution_count": 70,
     "metadata": {},
     "output_type": "execute_result"
    },
    {
     "data": {
      "image/png": "[encoded data removed]",
      "text/plain": [
       "<matplotlib.figure.Figure at 0x12a90c828>"
      ]
     },
     "metadata": {},
     "output_type": "display_data"
    }
   ],
   "source": [
    "# Create 100000 pairs of integers\n",
    "np.random.seed(2)\n",
    "input_test = np.random.randint(0, 101, size=(100000,2))\n",
    "print(input_test.shape)\n",
    "\n",
    "# Create a list to store the valid testing cases, numpy array is immunable\n",
    "temp_list = []\n",
    "for i in input_test:\n",
    "    for m in remove_num:\n",
    "        if i[0] == m or i[1] == m:\n",
    "            temp_list.append(i)\n",
    "            # If found match from either element of the group, continue\n",
    "            continue\n",
    "\n",
    "# Conver to numpy array\n",
    "input_test = np.array(temp_list)\n",
    "print(input_test.shape)\n",
    "\n",
    "# Remove the last number if the size of testing dataset is odd number\n",
    "num_rows = input_test.shape[0]\n",
    "input_test = input_test if num_rows%2==0 else input_test[:num_rows-1]\n",
    "print(input_test.shape)\n",
    "\n",
    "# Visually inspecting output_test, the value should range [50,150]\n",
    "output_test = np.sum(input_test, axis = 1)\n",
    "plt.hist(output_test)"
   ]
  },
  {
   "cell_type": "code",
   "execution_count": 71,
   "metadata": {},
   "outputs": [
    {
     "name": "stdout",
     "output_type": "stream",
     "text": [
      "[ 0.5         0.56999999] \n",
      " 107 \n",
      " [ 0.  0.  0.  0.  0.  0.  0.  0.  0.  0.  0.  0.  0.  0.  0.  0.  0.  0.\n",
      "  0.  0.  0.  0.  0.  0.  0.  0.  0.  0.  0.  0.  0.  0.  0.  0.  0.  0.\n",
      "  0.  0.  0.  0.  0.  0.  0.  0.  0.  0.  0.  0.  0.  0.  0.  0.  0.  0.\n",
      "  0.  0.  0.  0.  0.  0.  0.  0.  0.  0.  0.  0.  0.  0.  0.  0.  0.  0.\n",
      "  0.  0.  0.  0.  0.  0.  0.  0.  0.  0.  0.  0.  0.  0.  0.  0.  0.  0.\n",
      "  0.  0.  0.  0.  0.  0.  0.  0.  0.  0.  0.  0.  0.  0.  0.  0.  0.  1.\n",
      "  0.  0.  0.  0.  0.  0.  0.  0.  0.  0.  0.  0.  0.  0.  0.  0.  0.  0.\n",
      "  0.  0.  0.  0.  0.  0.  0.  0.  0.  0.  0.  0.  0.  0.  0.  0.  0.  0.\n",
      "  0.  0.  0.  0.  0.  0.  0.  0.  0.  0.  0.  0.  0.  0.  0.  0.  0.  0.\n",
      "  0.  0.  0.  0.  0.  0.  0.  0.  0.  0.  0.  0.  0.  0.  0.  0.  0.  0.\n",
      "  0.  0.  0.  0.  0.  0.  0.  0.  0.  0.  0.  0.  0.  0.  0.  0.  0.  0.\n",
      "  0.  0.  0.] \n",
      " (1980, 201)\n"
     ]
    }
   ],
   "source": [
    "# One-hot encode the test output same way as training output, normalize the test input\n",
    "#x_test = keras.utils.to_categorical(input_test, 101)\n",
    "#x_test = x_test.reshape(1980, 202)\n",
    "#print(input_test.shape, x_test.shape)\n",
    "x_test = input_test.astype('float32')\n",
    "x_test = x_test/100\n",
    "y_test = keras.utils.to_categorical(output_test, n_classes)\n",
    "\n",
    "print(x_test[10], '\\n', output_test[10], '\\n', y_test[10], '\\n', y_test.shape)"
   ]
  },
  {
   "cell_type": "markdown",
   "metadata": {},
   "source": [
    "## Build and Train the Neural Network"
   ]
  },
  {
   "cell_type": "code",
   "execution_count": 80,
   "metadata": {},
   "outputs": [
    {
     "name": "stdout",
     "output_type": "stream",
     "text": [
      "_________________________________________________________________\n",
      "Layer (type)                 Output Shape              Param #   \n",
      "=================================================================\n",
      "input_10 (InputLayer)        (None, 2)                 0         \n",
      "_________________________________________________________________\n",
      "Dense_1 (Dense)              (None, 2000)              6000      \n",
      "_________________________________________________________________\n",
      "Dense_2 (Dense)              (None, 1000)              2001000   \n",
      "_________________________________________________________________\n",
      "Dense_3 (Dense)              (None, 500)               500500    \n",
      "_________________________________________________________________\n",
      "Output (Dense)               (None, 201)               100701    \n",
      "=================================================================\n",
      "Total params: 2,608,201\n",
      "Trainable params: 2,608,201\n",
      "Non-trainable params: 0\n",
      "_________________________________________________________________\n"
     ]
    }
   ],
   "source": [
    "# Set up parameters\n",
    "learning_rate = 0.1\n",
    "training_epochs = 20\n",
    "batch_size = 50\n",
    "\n",
    "# Network parameters\n",
    "n_input = 2\n",
    "n_hidden_1 = 2000\n",
    "n_hidden_2 = 1000\n",
    "n_hidden_3 = 500\n",
    "n_classes = 201\n",
    "\n",
    "# Build network\n",
    "Inp = Input(shape=(2,))\n",
    "x = Dense(n_hidden_1, activation='relu', name='Dense_1')(Inp)\n",
    "x = Dense(n_hidden_2, activation='relu', name='Dense_2')(x)\n",
    "x = Dense(n_hidden_3, activation='relu', name='Dense_3')(x)\n",
    "output = Dense(n_classes, activation='softmax', name='Output')(x)\n",
    "\n",
    "model = Model(Inp, output)\n",
    "model.summary()"
   ]
  },
  {
   "cell_type": "code",
   "execution_count": 81,
   "metadata": {},
   "outputs": [
    {
     "name": "stdout",
     "output_type": "stream",
     "text": [
      "[[ 0.40000001  0.15000001]\n",
      " [ 0.72000003  0.22      ]\n",
      " [ 0.43000001  0.81999999]]\n",
      "[[ 0.  0.  0.  0.  0.  0.  0.  0.  0.  0.  0.  0.  0.  0.  0.  0.  0.  0.\n",
      "   0.  0.  0.  0.  0.  0.  0.  0.  0.  0.  0.  0.  0.  0.  0.  0.  0.  0.\n",
      "   0.  0.  0.  0.  0.  0.  0.  0.  0.  0.  0.  0.  0.  0.  0.  0.  0.  0.\n",
      "   0.  1.  0.  0.  0.  0.  0.  0.  0.  0.  0.  0.  0.  0.  0.  0.  0.  0.\n",
      "   0.  0.  0.  0.  0.  0.  0.  0.  0.  0.  0.  0.  0.  0.  0.  0.  0.  0.\n",
      "   0.  0.  0.  0.  0.  0.  0.  0.  0.  0.  0.  0.  0.  0.  0.  0.  0.  0.\n",
      "   0.  0.  0.  0.  0.  0.  0.  0.  0.  0.  0.  0.  0.  0.  0.  0.  0.  0.\n",
      "   0.  0.  0.  0.  0.  0.  0.  0.  0.  0.  0.  0.  0.  0.  0.  0.  0.  0.\n",
      "   0.  0.  0.  0.  0.  0.  0.  0.  0.  0.  0.  0.  0.  0.  0.  0.  0.  0.\n",
      "   0.  0.  0.  0.  0.  0.  0.  0.  0.  0.  0.  0.  0.  0.  0.  0.  0.  0.\n",
      "   0.  0.  0.  0.  0.  0.  0.  0.  0.  0.  0.  0.  0.  0.  0.  0.  0.  0.\n",
      "   0.  0.  0.]\n",
      " [ 0.  0.  0.  0.  0.  0.  0.  0.  0.  0.  0.  0.  0.  0.  0.  0.  0.  0.\n",
      "   0.  0.  0.  0.  0.  0.  0.  0.  0.  0.  0.  0.  0.  0.  0.  0.  0.  0.\n",
      "   0.  0.  0.  0.  0.  0.  0.  0.  0.  0.  0.  0.  0.  0.  0.  0.  0.  0.\n",
      "   0.  0.  0.  0.  0.  0.  0.  0.  0.  0.  0.  0.  0.  0.  0.  0.  0.  0.\n",
      "   0.  0.  0.  0.  0.  0.  0.  0.  0.  0.  0.  0.  0.  0.  0.  0.  0.  0.\n",
      "   0.  0.  0.  0.  1.  0.  0.  0.  0.  0.  0.  0.  0.  0.  0.  0.  0.  0.\n",
      "   0.  0.  0.  0.  0.  0.  0.  0.  0.  0.  0.  0.  0.  0.  0.  0.  0.  0.\n",
      "   0.  0.  0.  0.  0.  0.  0.  0.  0.  0.  0.  0.  0.  0.  0.  0.  0.  0.\n",
      "   0.  0.  0.  0.  0.  0.  0.  0.  0.  0.  0.  0.  0.  0.  0.  0.  0.  0.\n",
      "   0.  0.  0.  0.  0.  0.  0.  0.  0.  0.  0.  0.  0.  0.  0.  0.  0.  0.\n",
      "   0.  0.  0.  0.  0.  0.  0.  0.  0.  0.  0.  0.  0.  0.  0.  0.  0.  0.\n",
      "   0.  0.  0.]\n",
      " [ 0.  0.  0.  0.  0.  0.  0.  0.  0.  0.  0.  0.  0.  0.  0.  0.  0.  0.\n",
      "   0.  0.  0.  0.  0.  0.  0.  0.  0.  0.  0.  0.  0.  0.  0.  0.  0.  0.\n",
      "   0.  0.  0.  0.  0.  0.  0.  0.  0.  0.  0.  0.  0.  0.  0.  0.  0.  0.\n",
      "   0.  0.  0.  0.  0.  0.  0.  0.  0.  0.  0.  0.  0.  0.  0.  0.  0.  0.\n",
      "   0.  0.  0.  0.  0.  0.  0.  0.  0.  0.  0.  0.  0.  0.  0.  0.  0.  0.\n",
      "   0.  0.  0.  0.  0.  0.  0.  0.  0.  0.  0.  0.  0.  0.  0.  0.  0.  0.\n",
      "   0.  0.  0.  0.  0.  0.  0.  0.  0.  0.  0.  0.  0.  0.  0.  0.  0.  1.\n",
      "   0.  0.  0.  0.  0.  0.  0.  0.  0.  0.  0.  0.  0.  0.  0.  0.  0.  0.\n",
      "   0.  0.  0.  0.  0.  0.  0.  0.  0.  0.  0.  0.  0.  0.  0.  0.  0.  0.\n",
      "   0.  0.  0.  0.  0.  0.  0.  0.  0.  0.  0.  0.  0.  0.  0.  0.  0.  0.\n",
      "   0.  0.  0.  0.  0.  0.  0.  0.  0.  0.  0.  0.  0.  0.  0.  0.  0.  0.\n",
      "   0.  0.  0.]]\n"
     ]
    }
   ],
   "source": [
    "model.compile(loss='categorical_crossentropy',\n",
    "             optimizer='SGD',\n",
    "             metrics=['accuracy'])\n",
    "print(x_train[0:3])\n",
    "print(y_train[0:3])"
   ]
  },
  {
   "cell_type": "code",
   "execution_count": 82,
   "metadata": {},
   "outputs": [
    {
     "name": "stdout",
     "output_type": "stream",
     "text": [
      "Train on 9883 samples, validate on 1980 samples\n",
      "Epoch 1/20\n",
      "9883/9883 [==============================] - 6s - loss: 5.2981 - acc: 0.0058 - val_loss: 5.2898 - val_acc: 0.0045\n",
      "Epoch 2/20\n",
      "9883/9883 [==============================] - 5s - loss: 5.2883 - acc: 0.0103 - val_loss: 5.2780 - val_acc: 0.0045\n",
      "Epoch 3/20\n",
      "9883/9883 [==============================] - 5s - loss: 5.2788 - acc: 0.0097 - val_loss: 5.2652 - val_acc: 0.0045\n",
      "Epoch 4/20\n",
      "9883/9883 [==============================] - 5s - loss: 5.2682 - acc: 0.0111 - val_loss: 5.2503 - val_acc: 0.0045\n",
      "Epoch 5/20\n",
      "9883/9883 [==============================] - 6s - loss: 5.2557 - acc: 0.0102 - val_loss: 5.2321 - val_acc: 0.0045\n",
      "Epoch 6/20\n",
      "9883/9883 [==============================] - 6s - loss: 5.2404 - acc: 0.0096 - val_loss: 5.2094 - val_acc: 0.0045\n",
      "Epoch 7/20\n",
      "9883/9883 [==============================] - 6s - loss: 5.2216 - acc: 0.0098 - val_loss: 5.1805 - val_acc: 0.0000e+00\n",
      "Epoch 8/20\n",
      "9883/9883 [==============================] - 6s - loss: 5.1988 - acc: 0.0111 - val_loss: 5.1445 - val_acc: 0.0101\n",
      "Epoch 9/20\n",
      "9883/9883 [==============================] - 6s - loss: 5.1727 - acc: 0.0126 - val_loss: 5.1031 - val_acc: 0.0101\n",
      "Epoch 10/20\n",
      "9883/9883 [==============================] - 7s - loss: 5.1465 - acc: 0.0130 - val_loss: 5.0607 - val_acc: 0.0101\n",
      "Epoch 11/20\n",
      "9883/9883 [==============================] - 7s - loss: 5.1241 - acc: 0.0130 - val_loss: 5.0232 - val_acc: 0.0101\n",
      "Epoch 12/20\n",
      "9883/9883 [==============================] - 6s - loss: 5.1075 - acc: 0.0130 - val_loss: 4.9938 - val_acc: 0.0101\n",
      "Epoch 13/20\n",
      "9883/9883 [==============================] - 6s - loss: 5.0955 - acc: 0.0130 - val_loss: 4.9707 - val_acc: 0.0101\n",
      "Epoch 14/20\n",
      "9883/9883 [==============================] - 6s - loss: 5.0863 - acc: 0.0129 - val_loss: 4.9544 - val_acc: 0.0101\n",
      "Epoch 15/20\n",
      "9883/9883 [==============================] - 6s - loss: 5.0787 - acc: 0.0129 - val_loss: 4.9415 - val_acc: 0.0101\n",
      "Epoch 16/20\n",
      "9883/9883 [==============================] - 7s - loss: 5.0717 - acc: 0.0116 - val_loss: 4.9320 - val_acc: 0.0101\n",
      "Epoch 17/20\n",
      "9883/9883 [==============================] - 6s - loss: 5.0646 - acc: 0.0129 - val_loss: 4.9243 - val_acc: 0.0101\n",
      "Epoch 18/20\n",
      "9883/9883 [==============================] - 6s - loss: 5.0568 - acc: 0.0132 - val_loss: 4.9184 - val_acc: 0.0101\n",
      "Epoch 19/20\n",
      "9883/9883 [==============================] - 6s - loss: 5.0483 - acc: 0.0130 - val_loss: 4.9102 - val_acc: 0.0101\n",
      "Epoch 20/20\n",
      "9883/9883 [==============================] - 6s - loss: 5.0387 - acc: 0.0134 - val_loss: 4.9029 - val_acc: 0.0101\n"
     ]
    }
   ],
   "source": [
    "history = model.fit(x_train, y_train,\n",
    "                   batch_size=batch_size,\n",
    "                   epochs=training_epochs,\n",
    "                   verbose=1,\n",
    "                   validation_data=(x_test, y_test))"
   ]
  },
  {
   "cell_type": "code",
   "execution_count": 21,
   "metadata": {},
   "outputs": [],
   "source": [
    "def plot_train(hist):\n",
    "    h = hist.history\n",
    "    if 'acc' in h:\n",
    "        meas='acc'\n",
    "        loc='lower right'\n",
    "    else:\n",
    "        meas='loss'\n",
    "        loc='upper right'\n",
    "    plt.plot(hist.history[meas])\n",
    "    plt.plot(hist.history['val_'+meas])\n",
    "    plt.title('model '+meas)\n",
    "    plt.ylabel(meas)\n",
    "    plt.xlabel('epoch')\n",
    "    plt.legend(['train', 'validation'], loc=loc)"
   ]
  },
  {
   "cell_type": "code",
   "execution_count": 22,
   "metadata": {},
   "outputs": [
    {
     "data": {
      "image/png": "[encoded data removed]",
      "text/plain": [
       "<matplotlib.figure.Figure at 0x1245d2860>"
      ]
     },
     "metadata": {},
     "output_type": "display_data"
    }
   ],
   "source": [
    "plot_train(history)"
   ]
  },
  {
   "cell_type": "code",
   "execution_count": 24,
   "metadata": {},
   "outputs": [
    {
     "name": "stdout",
     "output_type": "stream",
     "text": [
      "Test loss: 4.99529207307\n",
      "Test accuracy: 0.010101010101\n"
     ]
    }
   ],
   "source": [
    "score = model.evaluate(x_test, y_test, verbose=0)\n",
    "print('Test loss:', score[0])\n",
    "print('Test accuracy:', score[1])"
   ]
  },
  {
   "cell_type": "code",
   "execution_count": null,
   "metadata": {
    "collapsed": true
   },
   "outputs": [],
   "source": []
  }
 ],
 "metadata": {
  "kernelspec": {
   "display_name": "Python 3",
   "language": "python",
   "name": "python3"
  },
  "language_info": {
   "codemirror_mode": {
    "name": "ipython",
    "version": 3
   },
   "file_extension": ".py",
   "mimetype": "text/x-python",
   "name": "python",
   "nbconvert_exporter": "python",
   "pygments_lexer": "ipython3",
   "version": "3.5.4"
  }
 },
 "nbformat": 4,
 "nbformat_minor": 2
}
